{
 "cells": [
  {
   "cell_type": "markdown",
   "id": "09702505-7121-4335-9cac-7be98aa4bc16",
   "metadata": {},
   "source": [
    "<center>\n",
    "    <h1>biodata</h1>\n",
    "    <table>\n",
    "    <tr>\n",
    "        <td>Nama  </td>\n",
    "        <td></td>\n",
    "    </tr>\n",
    "    <tr>\n",
    "        <td>Nama Panggilan  </td>\n",
    "        <td></td>\n",
    "    </tr>\n",
    "        <tr>\n",
    "            <td>Tempat Tanggal Lahir</td>\n",
    "            <td></td>\n",
    "        </tr>\n",
    "    </table>\n",
    "</center>"
   ]
  },
  {
   "cell_type": "code",
   "execution_count": null,
   "id": "4228f011-d226-408e-96f5-bebebd2412da",
   "metadata": {},
   "outputs": [],
   "source": []
  }
 ],
 "metadata": {
  "kernelspec": {
   "display_name": "Python [conda env:base] *",
   "language": "python",
   "name": "conda-base-py"
  },
  "language_info": {
   "codemirror_mode": {
    "name": "ipython",
    "version": 3
   },
   "file_extension": ".py",
   "mimetype": "text/x-python",
   "name": "python",
   "nbconvert_exporter": "python",
   "pygments_lexer": "ipython3",
   "version": "3.12.7"
  }
 },
 "nbformat": 4,
 "nbformat_minor": 5
}
