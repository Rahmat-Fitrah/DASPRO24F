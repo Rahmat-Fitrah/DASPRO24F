{
 "cells": [
  {
   "cell_type": "code",
   "execution_count": 9,
   "id": "54eadc96-bfe0-410a-a405-c685603cabad",
   "metadata": {},
   "outputs": [
    {
     "name": "stdin",
     "output_type": "stream",
     "text": [
      "Masukan Nama Anda: Rahmat fitrah\n",
      "Masukan Nim anda: 20240040104\n",
      "masukan tempat,Tanggal lahir anda Jayapura 12 maret 2005\n",
      "Masukan Nama Alamat anda kebonjati\n"
     ]
    },
    {
     "name": "stdout",
     "output_type": "stream",
     "text": [
      "NAMA:, Rahmat fitrah!\n",
      "NIM:, 20240040104!\n",
      "TEMPAT, TANGGAL LAHIR:, Jayapura 12 maret 2005!\n",
      "Alamat:, kebonjati!\n"
     ]
    }
   ],
   "source": [
    "nama = input (\"Masukan Nama Anda:\")\n",
    "nim = input (\"Masukan Nim anda:\")\n",
    "TempatTanggalLahir = input (\"masukan tempat,Tanggal lahir anda\")\n",
    "Alamat = input (\"Masukan Nama Alamat anda\")\n",
    "\n",
    "print(\"NAMA: \" + nama + \"!\")\n",
    "print(\"NIM: \" + nim + \"!\")\n",
    "print(\"TEMPAT, TANGGAL LAHIR: \" + TempatTanggalLahir + \"!\")\n",
    "print(\"Alamat: \" + Alamat + \"!\")"
   ]
  }
 ],
 "metadata": {
  "kernelspec": {
   "display_name": "Python [conda env:base] *",
   "language": "python",
   "name": "conda-base-py"
  },
  "language_info": {
   "codemirror_mode": {
    "name": "ipython",
    "version": 3
   },
   "file_extension": ".py",
   "mimetype": "text/x-python",
   "name": "python",
   "nbconvert_exporter": "python",
   "pygments_lexer": "ipython3",
   "version": "3.12.7"
  }
 },
 "nbformat": 4,
 "nbformat_minor": 5
}
